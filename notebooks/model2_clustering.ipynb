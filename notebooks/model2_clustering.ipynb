{
 "cells": [
  {
   "cell_type": "markdown",
   "id": "fbae0aa4",
   "metadata": {},
   "source": [
    "## Cluster and visualize products"
   ]
  },
  {
   "cell_type": "markdown",
   "id": "c7fed6ef",
   "metadata": {},
   "source": [
    "### Import Required Libraries\n",
    "This section imports the necessary Python libraries."
   ]
  },
  {
   "cell_type": "code",
   "execution_count": null,
   "id": "753f4d23",
   "metadata": {},
   "outputs": [],
   "source": [
    "def cluster_and_visualize_products(\n",
    "    df,\n",
    "    text_col='name_category_lemmatized',\n",
    "    n_clusters=4,\n",
    "    random_state=42,\n",
    "    show_samples=True,\n",
    "    show_plot=True\n",
    "):\n",
    "    \"\"\"\n",
    "    Cluster products using TF-IDF on a text column and visualize with PCA.\n",
    "    Adds a 'cluster' column to the DataFrame.\n",
    "    Returns: df (with cluster column), kmeans model, vectorizer, X (tfidf matrix)\n",
    "    \"\"\"\n",
    "    import pandas as pd\n",
    "    from sklearn.feature_extraction.text import TfidfVectorizer\n",
    "    from sklearn.cluster import KMeans\n",
    "    from sklearn.decomposition import PCA\n",
    "    import matplotlib.pyplot as plt"
   ]
  },
  {
   "cell_type": "markdown",
   "id": "a4110566",
   "metadata": {},
   "source": [
    "### TF-IDF Vectorization\n",
    "Convert raw text into numerical features using TF-IDF."
   ]
  },
  {
   "cell_type": "code",
   "execution_count": null,
   "id": "a3ec3d87",
   "metadata": {},
   "outputs": [],
   "source": [
    "# Vectorize\n",
    "    vectorizer = TfidfVectorizer(stop_words='english')\n",
    "    X = vectorizer.fit_transform(df[text_col])\n",
    "    print(\"TF-IDF matrix shape:\", X.shape)"
   ]
  },
  {
   "cell_type": "markdown",
   "id": "89193f5e",
   "metadata": {},
   "source": [
    "### Predict Labels\n",
    "Use the trained model to make predictions."
   ]
  },
  {
   "cell_type": "code",
   "execution_count": null,
   "id": "878d23dc",
   "metadata": {},
   "outputs": [],
   "source": [
    "# KMeans clustering\n",
    "    kmeans = KMeans(n_clusters=n_clusters, random_state=random_state)\n",
    "    df['cluster'] = kmeans.fit_predict(X)\n",
    "    print(\"Number of products per cluster:\")\n",
    "    print(df['cluster'].value_counts())"
   ]
  },
  {
   "cell_type": "code",
   "execution_count": null,
   "id": "f223cf34",
   "metadata": {},
   "outputs": [],
   "source": [
    "# Show sample products from each cluster\n",
    "    if show_samples:\n",
    "        for cluster_id in range(n_clusters):\n",
    "            print(f\"\\nCluster {cluster_id} sample products:\")\n",
    "            display(df[df['cluster'] == cluster_id][['name', 'categories']].head(10))"
   ]
  },
  {
   "cell_type": "markdown",
   "id": "a64a1bb5",
   "metadata": {},
   "source": [
    "### Dimensionality Reduction (PCA)\n",
    "Visualize high-dimensional data in 2D using Principal Component Analysis."
   ]
  },
  {
   "cell_type": "code",
   "execution_count": null,
   "id": "fa2ae692",
   "metadata": {},
   "outputs": [],
   "source": [
    "# Visualize clusters using PCA\n",
    "    if show_plot:\n",
    "        pca = PCA(n_components=2)\n",
    "        X_pca = pca.fit_transform(X.toarray())\n",
    "        plt.figure(figsize=(10, 6))\n",
    "        for cluster_id in range(n_clusters):\n",
    "            plt.scatter(\n",
    "                X_pca[df['cluster'] == cluster_id, 0],\n",
    "                X_pca[df['cluster'] == cluster_id, 1],\n",
    "                label=f'Cluster {cluster_id}', alpha=0.5\n",
    "            )\n",
    "        plt.title('K-Means Clusters Visualization (PCA)')\n",
    "        plt.xlabel('PCA Component 1')\n",
    "        plt.ylabel('PCA Component 2')\n",
    "        plt.legend()\n",
    "        plt.show()\n",
    "    \n",
    "    cluster_name_map = {\n",
    "    0: \"Smart Home Essentials\",\n",
    "    1: \"Batteries\",\n",
    "    2: \"Smart Tablets\",\n",
    "    3: \"E-readers\"\n",
    "    }\n",
    "    df['clustered_category'] = df['cluster'].map(cluster_name_map)\n",
    "    \n",
    "    return df, kmeans, vectorizer, X"
   ]
  }
 ],
 "metadata": {
  "language_info": {
   "name": "python"
  }
 },
 "nbformat": 4,
 "nbformat_minor": 5
}
