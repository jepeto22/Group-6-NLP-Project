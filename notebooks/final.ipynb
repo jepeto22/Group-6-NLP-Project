{
 "cells": [
  {
   "cell_type": "markdown",
   "id": "e243f70e",
   "metadata": {},
   "source": [
    "### Import Libraries\n",
    "We import all required libraries including tools for data manipulation, preprocessing, machine learning models, and visualization."
   ]
  },
  {
   "cell_type": "code",
   "execution_count": 1,
   "id": "a88c8eef",
   "metadata": {
    "colab": {
     "base_uri": "https://localhost:8080/"
    },
    "id": "a88c8eef",
    "outputId": "d5794420-e4cb-4ebd-c4ea-e89153258cdb"
   },
   "outputs": [
    {
     "name": "stderr",
     "output_type": "stream",
     "text": [
      "[nltk_data] Downloading package punkt to\n",
      "[nltk_data]     C:\\Users\\Zahinos\\AppData\\Roaming\\nltk_data...\n",
      "[nltk_data]   Package punkt is already up-to-date!\n",
      "[nltk_data] Downloading package punkt_tab to\n",
      "[nltk_data]     C:\\Users\\Zahinos\\AppData\\Roaming\\nltk_data...\n",
      "[nltk_data]   Package punkt_tab is already up-to-date!\n",
      "[nltk_data] Downloading package stopwords to\n",
      "[nltk_data]     C:\\Users\\Zahinos\\AppData\\Roaming\\nltk_data...\n",
      "[nltk_data]   Package stopwords is already up-to-date!\n",
      "[nltk_data] Downloading package wordnet to\n",
      "[nltk_data]     C:\\Users\\Zahinos\\AppData\\Roaming\\nltk_data...\n",
      "[nltk_data]   Package wordnet is already up-to-date!\n"
     ]
    },
    {
     "data": {
      "text/plain": [
       "True"
      ]
     },
     "execution_count": 1,
     "metadata": {},
     "output_type": "execute_result"
    }
   ],
   "source": [
    "# 0. Imports and Setup\n",
    "\n",
    "import os\n",
    "import re\n",
    "import pandas as pd\n",
    "import numpy as np\n",
    "import matplotlib.pyplot as plt\n",
    "from collections import Counter\n",
    "from sklearn.feature_extraction.text import CountVectorizer, TfidfVectorizer\n",
    "from sklearn.model_selection import train_test_split, GridSearchCV, cross_val_score\n",
    "from sklearn.pipeline import Pipeline\n",
    "from sklearn.svm import LinearSVC\n",
    "from sklearn.cluster import KMeans\n",
    "from sklearn.decomposition import PCA\n",
    "from scipy.sparse import hstack\n",
    "import joblib\n",
    "import nltk\n",
    "from nltk.corpus import stopwords\n",
    "from nltk.tokenize import word_tokenize\n",
    "from nltk.stem import WordNetLemmatizer\n",
    "from transformers import AutoTokenizer, AutoModelForCausalLM, pipeline\n",
    "\n",
    "nltk.download('punkt')\n",
    "nltk.download('punkt_tab')\n",
    "nltk.download('stopwords')\n",
    "nltk.download('wordnet')"
   ]
  },
  {
   "cell_type": "markdown",
   "id": "a65d6499",
   "metadata": {},
   "source": [
    "### Remove Duplicates and Empty Records\n",
    "This function drops any reviews that are duplicates or contain empty or non-informative text."
   ]
  },
  {
   "cell_type": "code",
   "execution_count": 2,
   "id": "edea4075",
   "metadata": {
    "id": "edea4075"
   },
   "outputs": [],
   "source": [
    "# 1. Data Preprocessing Functions\n",
    "\n",
    "def drop_duplicates_empty(df):\n",
    "    # Remove 'Includes Special Offers' from the 'name' column, but do not drop the row\n",
    "    df['name'] = df['name'].str.replace('Includes Special Offers', '', regex=False).str.strip()\n",
    "    df = df.dropna(subset=['reviews.text', 'reviews.rating'])\n",
    "    df = df.drop_duplicates(subset=['asins', 'reviews.text'])\n",
    "    return df\n",
    "\n",
    "def clean_text(text):\n",
    "    text = re.sub(r\"[^a-zA-Z0-9\\s]\", '', str(text))\n",
    "    text = re.sub(r'\\s+', ' ', text)\n",
    "    return text.strip().lower()\n",
    "\n",
    "def preprocess_reviews(df):\n",
    "    df['combined_reviews'] = df['reviews.title'].fillna('').str.lower() + ' ' + df['reviews.text'].fillna('').str.lower()\n",
    "    df['combined_reviews'] = df['combined_reviews'].apply(clean_text)\n",
    "    df = df.drop(['reviews.title', 'reviews.text'], axis=1)\n",
    "    return df\n",
    "\n",
    "def add_sentiment_column(df):\n",
    "    def categorize_rating(rating):\n",
    "        if rating >= 4:\n",
    "            return 'positive'\n",
    "        elif rating == 3:\n",
    "            return 'neutral'\n",
    "        else:\n",
    "            return 'negative'\n",
    "    df['sentiment'] = df['reviews.rating'].apply(categorize_rating)\n",
    "    return df\n",
    "\n",
    "def tokenize_reviews(df, col='combined_reviews', new_col='tokens'):\n",
    "    df[new_col] = df[col].apply(word_tokenize)\n",
    "    return df\n",
    "\n",
    "def remove_stopwords(df, tokens_col='tokens', new_col='tokens_nostop', language='english'):\n",
    "    stop_words = set(stopwords.words(language))\n",
    "    df[new_col] = df[tokens_col].apply(lambda tokens: [word for word in tokens if word.lower() not in stop_words])\n",
    "    return df\n",
    "\n",
    "def lemmatize_tokens(df, tokens_col='tokens_nostop', new_col='tokens_lemmatized'):\n",
    "    lemmatizer = WordNetLemmatizer()\n",
    "    df[new_col] = df[tokens_col].apply(lambda tokens: [lemmatizer.lemmatize(token) for token in tokens])\n",
    "    return df\n",
    "\n",
    "def preprocess_pipeline(df):\n",
    "    df = drop_duplicates_empty(df)\n",
    "    df = preprocess_reviews(df)\n",
    "    df = add_sentiment_column(df)\n",
    "    df = tokenize_reviews(df)\n",
    "    df = remove_stopwords(df)\n",
    "    df = lemmatize_tokens(df)\n",
    "    df['lemmatized_str'] = df['tokens_lemmatized'].apply(lambda tokens: ' '.join(tokens))\n",
    "    return df\n",
    "\n",
    "def preprocess_and_lemmatize_names_categories(df):\n",
    "    df['name'] = df['name'].fillna('')\n",
    "    df['categories'] = df['categories'].fillna('')\n",
    "    df['name'] = df['name'].str.replace('Includes Special Offers', '', regex=False).str.strip()\n",
    "    df['name_category'] = df['name'] + ' ' + df['categories']\n",
    "    def clean_text(text):\n",
    "        text = text.lower()\n",
    "        text = re.sub(r\"[^a-zA-Z0-9\\s]\", '', text)\n",
    "        text = re.sub(r'\\s+', ' ', text)\n",
    "        return text.strip()\n",
    "    df['name_category_clean'] = df['name_category'].apply(clean_text)\n",
    "    df['name_category_tokens'] = df['name_category_clean'].apply(word_tokenize)\n",
    "    stop_words = set(stopwords.words('english'))\n",
    "    df['name_category_nostop'] = df['name_category_tokens'].apply(\n",
    "        lambda tokens: [word for word in tokens if word not in stop_words]\n",
    "    )\n",
    "    lemmatizer = WordNetLemmatizer()\n",
    "    df['name_category_lemmatized'] = df['name_category_nostop'].apply(\n",
    "        lambda tokens: [lemmatizer.lemmatize(token) for token in tokens]\n",
    "    )\n",
    "    df['name_category_lemmatized'] = df['name_category_lemmatized'].apply(lambda tokens: ' '.join(tokens))\n",
    "    return df"
   ]
  },
  {
   "cell_type": "markdown",
   "id": "cf3ad41d",
   "metadata": {},
   "source": [
    "### Load the Dataset\n",
    "The dataset is loaded from a CSV file which contains customer reviews of various Amazon products."
   ]
  },
  {
   "cell_type": "code",
   "execution_count": 3,
   "id": "1687cbb7",
   "metadata": {
    "id": "1687cbb7"
   },
   "outputs": [],
   "source": [
    "csv_path = '../data/Processed/combined_reviews.csv'\n",
    "df = pd.read_csv(csv_path)\n",
    "\n",
    "df = preprocess_pipeline(df)"
   ]
  },
  {
   "cell_type": "markdown",
   "id": "b49fff78",
   "metadata": {},
   "source": [
    "### Sentiment Model Training and Evaluation\n",
    "This code trains and compares four models (Logistic Regression, SVM, Random Forest, Naive Bayes) to classify review sentiment using TF-IDF text features and review length. It uses GridSearchCV to find the best parameters, selects the top model based on F1-macro score, evaluates it on a test set, and displays misclassified examples for analysis."
   ]
  },
  {
   "cell_type": "code",
   "execution_count": 4,
   "id": "a3c46d4b",
   "metadata": {
    "colab": {
     "base_uri": "https://localhost:8080/"
    },
    "id": "a3c46d4b",
    "outputId": "a5614845-4e3a-45a4-be26-d04671bb429b"
   },
   "outputs": [
    {
     "name": "stdout",
     "output_type": "stream",
     "text": [
      "\n",
      "Logistic Regression - GridSearchCV\n",
      "Best params: {'C': 10}\n",
      "Best CV F1-macro: 0.7445951780211998\n",
      "\n",
      "Linear SVC - GridSearchCV\n"
     ]
    },
    {
     "name": "stderr",
     "output_type": "stream",
     "text": [
      "c:\\Users\\Zahinos\\Desktop\\AI\\Week5\\Day5(4)\\lab-qlora-tuning-peft\\.conda\\Lib\\site-packages\\sklearn\\svm\\_base.py:1250: ConvergenceWarning: Liblinear failed to converge, increase the number of iterations.\n",
      "  warnings.warn(\n"
     ]
    },
    {
     "name": "stdout",
     "output_type": "stream",
     "text": [
      "Best params: {'C': 1}\n",
      "Best CV F1-macro: 0.7344040786029454\n",
      "\n",
      "Random Forest - GridSearchCV\n",
      "Best params: {'max_depth': None, 'n_estimators': 100}\n",
      "Best CV F1-macro: 0.6754670895220221\n",
      "\n",
      "Multinomial NB - GridSearchCV\n",
      "Best params: {'alpha': 0.5}\n",
      "Best CV F1-macro: 0.34770862693541504\n",
      "\n",
      "Best sentiment model: Logistic Regression with F1-macro = 0.7446\n",
      "              precision    recall  f1-score   support\n",
      "\n",
      "    negative       0.89      0.74      0.81       463\n",
      "     neutral       0.78      0.48      0.59       516\n",
      "    positive       0.97      0.99      0.98     10981\n",
      "\n",
      "    accuracy                           0.96     11960\n",
      "   macro avg       0.88      0.74      0.79     11960\n",
      "weighted avg       0.96      0.96      0.96     11960\n",
      "\n",
      "Confusion Matrix:\n",
      " [[  342    23    98]\n",
      " [   19   247   250]\n",
      " [   24    47 10910]]\n",
      "  actual_sentiment predicted_sentiment  \\\n",
      "0          neutral            positive   \n",
      "1         positive            negative   \n",
      "2         positive             neutral   \n",
      "3          neutral            positive   \n",
      "4         negative            positive   \n",
      "\n",
      "                                                                                                                                                                        combined_reviews  \n",
      "0                                                                                                                                      duracells cheaper dont last long duracell cheaper  \n",
      "1         nice tablet week purchase item went sale think best buy refund difference without drive 45 minute 1 way return repurchase store advised call like dont credit card information  \n",
      "2                                                                                                                                                    kindle nice device bad sale get pay  \n",
      "3                                                                                                                                            tablet tablet bought expected wanted return  \n",
      "4  maybe worth worth buying slight grade cheap chinese battery going replace x2 x3 time often top line battery take price top line battery divide 2 compare price bad price worth hassle  \n"
     ]
    }
   ],
   "source": [
    "from sklearn.linear_model import LogisticRegression\n",
    "from sklearn.svm import LinearSVC\n",
    "from sklearn.ensemble import RandomForestClassifier\n",
    "from sklearn.naive_bayes import MultinomialNB\n",
    "from sklearn.model_selection import train_test_split, GridSearchCV\n",
    "from sklearn.metrics import classification_report, confusion_matrix\n",
    "from sklearn.feature_extraction.text import TfidfVectorizer\n",
    "from scipy.sparse import hstack\n",
    "import numpy as np\n",
    "\n",
    "\n",
    "# Prepare features and labels\n",
    "X_text = df['lemmatized_str']\n",
    "y = df['sentiment']\n",
    "\n",
    "# Split data\n",
    "X_train_text, X_test_text, y_train, y_test = train_test_split(\n",
    "    X_text, y, test_size=0.2, random_state=42, stratify=y\n",
    ")\n",
    "\n",
    "# Vectorize text\n",
    "tfidf_vectorizer = TfidfVectorizer(ngram_range=(1,2), min_df=3, max_df=0.9)\n",
    "X_train_tfidf = tfidf_vectorizer.fit_transform(X_train_text)\n",
    "X_test_tfidf = tfidf_vectorizer.transform(X_test_text)\n",
    "\n",
    "# Add review length as a feature\n",
    "train_length = np.array([len(x.split()) for x in X_train_text]).reshape(-1, 1)\n",
    "test_length = np.array([len(x.split()) for x in X_test_text]).reshape(-1, 1)\n",
    "\n",
    "X_train_features = hstack([X_train_tfidf, train_length])\n",
    "X_test_features = hstack([X_test_tfidf, test_length])\n",
    "\n",
    "# Define models and grids\n",
    "models_and_grids = [\n",
    "    (\n",
    "        \"Logistic Regression\",\n",
    "        LogisticRegression(max_iter=2000, random_state=42),\n",
    "        {'C': [0.01, 0.1, 1, 10]}\n",
    "    ),\n",
    "    (\n",
    "        \"Linear SVC\",\n",
    "        LinearSVC(max_iter=1000, random_state=42),\n",
    "        {'C': [0.01, 0.1, 1, 10]}\n",
    "    ),\n",
    "    (\n",
    "        \"Random Forest\",\n",
    "        RandomForestClassifier(random_state=42),\n",
    "        {'n_estimators': [50, 100], 'max_depth': [None, 10, 20]}\n",
    "    ),\n",
    "    (\n",
    "        \"Multinomial NB\",\n",
    "        MultinomialNB(),\n",
    "        {'alpha': [0.5, 1.0, 2.0]}\n",
    "    )\n",
    "]\n",
    "\n",
    "results = []\n",
    "\n",
    "for name, model, param_grid in models_and_grids:\n",
    "    print(f\"\\n{name} - GridSearchCV\")\n",
    "    grid = GridSearchCV(model, param_grid, cv=3, scoring='f1_macro', n_jobs=-1)\n",
    "    try:\n",
    "        grid.fit(X_train_features, y_train)\n",
    "        print(\"Best params:\", grid.best_params_)\n",
    "        print(\"Best CV F1-macro:\", grid.best_score_)\n",
    "        results.append((name, grid.best_score_, grid.best_estimator_))\n",
    "    except Exception as e:\n",
    "        print(f\"Error with {name}: {e}\")\n",
    "\n",
    "# Find and display the best model\n",
    "if results:\n",
    "    best_name, best_score, best_sentiment_model = max(results, key=lambda x: x[1])\n",
    "    print(f\"\\nBest sentiment model: {best_name} with F1-macro = {best_score:.4f}\")\n",
    "    # Evaluate on test set\n",
    "    y_pred = best_sentiment_model.predict(X_test_features)\n",
    "    print(classification_report(y_test, y_pred))\n",
    "    print(\"Confusion Matrix:\\n\", confusion_matrix(y_test, y_pred))\n",
    "else:\n",
    "    print(\"No model was successfully trained.\")\n",
    "\n",
    "\n",
    "# Find indices of misclassified samples\n",
    "import numpy as np\n",
    "mis_idx = np.where(y_pred != y_test)[0]\n",
    "y_test_reset = y_test.reset_index(drop=True)\n",
    "\n",
    "pd.set_option('display.max_colwidth', None)\n",
    "\n",
    "misclassified_df = pd.DataFrame({\n",
    "    'actual_sentiment': y_test_reset.iloc[mis_idx].values,\n",
    "    'predicted_sentiment': y_pred[mis_idx],\n",
    "    'combined_reviews': X_test_text.iloc[mis_idx].values\n",
    "})\n",
    "\n",
    "pd.set_option('display.max_colwidth', None)\n",
    "\n",
    "print(misclassified_df.head())"
   ]
  },
  {
   "cell_type": "markdown",
   "id": "9999b99b",
   "metadata": {},
   "source": [
    "### Save Model and Vectorizer\n",
    "We persist the trained sentiment classifier and TF-IDF vectorizer using `joblib` so they can be reused later."
   ]
  },
  {
   "cell_type": "code",
   "execution_count": 5,
   "id": "c34a7af5",
   "metadata": {
    "colab": {
     "base_uri": "https://localhost:8080/"
    },
    "id": "c34a7af5",
    "outputId": "b5b0afe5-b8c4-4c0d-9ccd-ebee7c18012e"
   },
   "outputs": [
    {
     "data": {
      "text/plain": [
       "['tfidf_vectorizer_sentiment.pkl']"
      ]
     },
     "execution_count": 5,
     "metadata": {},
     "output_type": "execute_result"
    }
   ],
   "source": [
    "# Save the best model and vectorizer\n",
    "joblib.dump(best_sentiment_model, 'best_sentiment_model.pkl')\n",
    "joblib.dump(tfidf_vectorizer, 'tfidf_vectorizer_sentiment.pkl')"
   ]
  },
  {
   "cell_type": "markdown",
   "id": "6b08c202",
   "metadata": {},
   "source": [
    "### Predict Sentiment Labels\n",
    "This function uses the trained model to predict sentiment for each review and append it to the dataset."
   ]
  },
  {
   "cell_type": "code",
   "execution_count": 6,
   "id": "91f11ea7",
   "metadata": {
    "id": "91f11ea7"
   },
   "outputs": [],
   "source": [
    "# 2. Sentiment Classification Function\n",
    "\n",
    "def predict_sentiment(df, tfidf_vectorizer, best_sentiment_model):\n",
    "    X_tfidf = tfidf_vectorizer.transform(df['lemmatized_str'])\n",
    "    review_length = np.array([len(x.split()) for x in df['lemmatized_str']]).reshape(-1, 1)\n",
    "    X_vec = hstack([X_tfidf, review_length])\n",
    "    df['sentiment'] = best_sentiment_model.predict(X_vec)\n",
    "    sentiment_map = {'positive': 2, 'neutral': 1, 'negative': 0}\n",
    "    df['sentiment_points'] = df['sentiment'].map(sentiment_map)\n",
    "    return df"
   ]
  },
  {
   "cell_type": "markdown",
   "id": "d562b580",
   "metadata": {},
   "source": [
    "### Predict Sentiment Labels\n",
    "This function uses the trained model to predict sentiment for each review and append it to the dataset."
   ]
  },
  {
   "cell_type": "code",
   "execution_count": 7,
   "id": "879e9fe8",
   "metadata": {
    "id": "879e9fe8"
   },
   "outputs": [],
   "source": [
    "df = predict_sentiment(df, tfidf_vectorizer, best_sentiment_model)"
   ]
  },
  {
   "cell_type": "markdown",
   "id": "7f99d47f",
   "metadata": {},
   "source": [
    "### Preprocess Product Names and Categories\n",
    "We normalize the text in product names and categories for consistency before clustering."
   ]
  },
  {
   "cell_type": "code",
   "execution_count": 8,
   "id": "3f6537b9",
   "metadata": {
    "id": "3f6537b9"
   },
   "outputs": [],
   "source": [
    "df = preprocess_and_lemmatize_names_categories(df)"
   ]
  },
  {
   "cell_type": "markdown",
   "id": "ef3a7909",
   "metadata": {},
   "source": [
    "### Product Clustering with TF-IDF and KMeans\n",
    "This function groups products based on text features (name + category) using KMeans clustering. It includes:\n",
    "\n",
    "TF-IDF vectorization of product text\n",
    "\n",
    "Elbow method + KneeLocator to automatically select the optimal number of clusters\n",
    "\n",
    "Final KMeans clustering using the optimal k\n",
    "\n",
    "PCA visualization to show cluster separation in 2D\n",
    "\n",
    "Sample output of products per cluster"
   ]
  },
  {
   "cell_type": "code",
   "execution_count": 9,
   "id": "f284fbe1",
   "metadata": {
    "colab": {
     "base_uri": "https://localhost:8080/"
    },
    "id": "f284fbe1",
    "outputId": "a68e4e43-dc51-445d-d47e-b6a3f96829cb"
   },
   "outputs": [],
   "source": [
    "from kneed import KneeLocator\n",
    "from sklearn.decomposition import TruncatedSVD\n",
    "from sklearn.cluster import KMeans\n",
    "import matplotlib.pyplot as plt\n",
    "import numpy as np\n",
    "\n",
    "# 3. Clustering Function\n",
    "\n",
    "def cluster_and_visualize_products(\n",
    "    df,\n",
    "    text_col='name_category_lemmatized',\n",
    "    k_range=range(2, 11),\n",
    "    n_components=50,\n",
    "    random_state=42,\n",
    "    show_samples=True,\n",
    "    show_plot=True\n",
    "):\n",
    "    # TF-IDF vectorization\n",
    "    vectorizer = TfidfVectorizer(stop_words='english')\n",
    "    X = vectorizer.fit_transform(df[text_col])\n",
    "\n",
    "    # Elbow method\n",
    "    inertias = []\n",
    "    for k in k_range:\n",
    "        kmeans = KMeans(n_clusters=k, random_state=random_state, n_init=10)\n",
    "        kmeans.fit(X)\n",
    "        inertias.append(kmeans.inertia_)\n",
    "\n",
    "    plt.figure(figsize=(8, 4))\n",
    "    plt.plot(list(k_range), inertias, marker='o')\n",
    "    plt.xlabel('Number of clusters (k)')\n",
    "    plt.ylabel('Inertia')\n",
    "    plt.title('Elbow Method For Optimal k')\n",
    "    plt.show()\n",
    "\n",
    "   # AUTOMATIC knee detection\n",
    "    kneedle = KneeLocator(list(k_range), inertias, curve='convex', direction='decreasing')\n",
    "    optimal_k = kneedle.elbow - 1\n",
    "    if optimal_k is None:\n",
    "        optimal_k = k_range[0]  # fallback if knee not found\n",
    "    print(f\"Optimal number of clusters (automatic): {optimal_k}\")\n",
    "\n",
    "    # Final clustering\n",
    "    kmeans = KMeans(n_clusters=optimal_k, random_state=random_state, n_init=20)\n",
    "    df['cluster'] = kmeans.fit_predict(X)\n",
    "\n",
    "    # 2D visualization\n",
    "    if show_plot:\n",
    "        pca = PCA(n_components=2, random_state=random_state)\n",
    "        X_pca = pca.fit_transform(X)\n",
    "        plt.figure(figsize=(10, 6))\n",
    "        for cluster_id in range(optimal_k):\n",
    "            plt.scatter(\n",
    "                X_pca[df['cluster'] == cluster_id, 0],\n",
    "                X_pca[df['cluster'] == cluster_id, 1],\n",
    "                label=f'Cluster {cluster_id}', alpha=0.5\n",
    "            )\n",
    "        plt.title('K-Means Clusters Visualization (PCA)')\n",
    "        plt.xlabel('PCA Component 1')\n",
    "        plt.ylabel('PCA Component 2')\n",
    "        plt.legend()\n",
    "        plt.show()\n",
    "\n",
    "    if show_samples:\n",
    "        for cluster_id in range(optimal_k):\n",
    "            print(f\"\\nCluster {cluster_id} sample products:\")\n",
    "            display(df[df['cluster'] == cluster_id][['name', 'categories']].head(10))\n",
    "\n",
    "    return df, kmeans, vectorizer, X"
   ]
  },
  {
   "cell_type": "markdown",
   "id": "fd1fc60f",
   "metadata": {},
   "source": [
    "### Cluster Reviews\n",
    "We use KMeans to group products based on textual similarity using vectorized representations."
   ]
  },
  {
   "cell_type": "code",
   "execution_count": 10,
   "id": "e6bdb372",
   "metadata": {
    "colab": {
     "base_uri": "https://localhost:8080/",
     "height": 974
    },
    "id": "e6bdb372",
    "outputId": "df4cafd5-08db-4698-8fc3-c506a626f471"
   },
   "outputs": [
    {
     "data": {
      "image/png": "[encoded data removed]",
      "text/plain": [
       "<Figure size 800x400 with 1 Axes>"
      ]
     },
     "metadata": {},
     "output_type": "display_data"
    },
    {
     "name": "stdout",
     "output_type": "stream",
     "text": [
      "Optimal number of clusters (automatic): 4\n"
     ]
    },
    {
     "data": {
      "image/png": "[encoded data removed]",
      "text/plain": [
       "<Figure size 1000x600 with 1 Axes>"
      ]
     },
     "metadata": {},
     "output_type": "display_data"
    }
   ],
   "source": [
    "df, kmeans, cluster_vectorizer, X = cluster_and_visualize_products(df, show_samples=False, show_plot=True)"
   ]
  },
  {
   "cell_type": "markdown",
   "id": "3d18cea8",
   "metadata": {},
   "source": [
    "### Generate Unique Cluster Names with GPT-3.5 Turbo\n",
    "This code uses OpenAI's GPT-3.5 Turbo to generate concise, non-generic names for each product cluster.\n",
    "\n",
    "It takes the list of product names from each cluster.\n",
    "\n",
    "Sends them to the GPT model via a custom prompt.\n",
    "\n",
    "Ensures that each generated category name is unique (not reused).\n",
    "\n",
    "Maps the final names back to the DataFrame under clustered_category.\n",
    "\n",
    "This replaces manually defined cluster labels with human-like, interpretable category names."
   ]
  },
  {
   "cell_type": "code",
   "execution_count": null,
   "id": "95ae3986",
   "metadata": {
    "colab": {
     "base_uri": "https://localhost:8080/"
    },
    "id": "95ae3986",
    "outputId": "10208383-63ff-498c-966b-7008e37615ca"
   },
   "outputs": [
    {
     "name": "stdout",
     "output_type": "stream",
     "text": [
      "{np.int32(0): 'Amazon Devices', np.int32(1): 'Tablet Devices', np.int32(2): 'Battery Packs', np.int32(3): 'E-Readers'}\n"
     ]
    }
   ],
   "source": [
    "#!pip install dotenv\n",
    "import openai\n",
    "from dotenv import load_dotenv\n",
    "import os\n",
    "\n",
    "load_dotenv()\n",
    "\n",
    "openai_api_key = os.getenv(\"OPENAI_API_KEY\")\n",
    "\n",
    "def get_category_name_openai(product_names, openai_api_key, model=\"gpt-3.5-turbo\"):\n",
    "    \"\"\"\n",
    "    Given a list of product names, use OpenAI to suggest a concise, precise unique category name.\n",
    "    Returns only the category name as a string.\n",
    "    \"\"\"\n",
    "    prompt = (\n",
    "        \"Given the following list of product names, suggest a concise, precise category name that best describes the majority of products and it is not generic. \"\n",
    "        f\"Do NOT use any of these words: {', '.join(used_names)}\\n\"\n",
    "        \"Only return the category name, nothing else.\\n\\n\"\n",
    "        \"Product names:\\n\" +\n",
    "        \"\\n\".join(product_names)\n",
    "    )\n",
    "    client = openai.OpenAI(api_key=openai_api_key)\n",
    "    response = client.chat.completions.create(\n",
    "        model=model,\n",
    "        messages=[{\"role\": \"user\", \"content\": prompt}],\n",
    "        temperature=0.5,\n",
    "        max_tokens=15,\n",
    "    )\n",
    "    return response.choices[0].message.content.strip()\n",
    "\n",
    "# After clustering, replace your static cluster_name_map with OpenAI-generated names:\n",
    "\n",
    "cluster_name_map = {}\n",
    "used_names = set()\n",
    "# Generate unique category names for each cluster using OpenAI\n",
    "for cluster_id in sorted(df['cluster'].unique()):\n",
    "    product_names = df[df['cluster'] == cluster_id]['name'].dropna().unique().tolist()\n",
    "    if product_names:\n",
    "        category_name = get_category_name_openai(product_names, openai_api_key)\n",
    "        while category_name in used_names:\n",
    "            category_name = get_category_name_openai(product_names, openai_api_key, prompt=prompt)\n",
    "        used_names.add(category_name)\n",
    "        cluster_name_map[cluster_id] = category_name\n",
    "print(cluster_name_map)\n",
    "\n",
    "df['clustered_category'] = df['cluster'].map(cluster_name_map)"
   ]
  },
  {
   "cell_type": "markdown",
   "id": "63312c7c",
   "metadata": {},
   "source": [
    "### Load Quantized Language Model from Hugging Face (Mistral-7B Instruct)\n",
    "This code loads a large language model (Mistral-7B) from Hugging Face using efficient 8-bit quantization via BitsAndBytes, which helps reduce memory usage without significant loss in precision.\n",
    "\n",
    "Steps included:\n",
    "\n",
    "Authenticate with Hugging Face Hub to access gated models using an API key from environment variables.\n",
    "\n",
    "Use BitsAndBytesConfig to set 8-bit loading for the model.\n",
    "\n",
    "Load the pre-trained model and tokenizer from the Hugging Face Hub with memory-efficient configuration.\n",
    "\n",
    "This setup allows you to generate high-quality text using a powerful instruction-tuned model on standard hardware."
   ]
  },
  {
   "cell_type": "code",
   "execution_count": null,
   "id": "98aa8fc5",
   "metadata": {
    "colab": {
     "base_uri": "https://localhost:8080/",
     "height": 243,
     "referenced_widgets": [
      "d6ba10d607bc4bd3baa44205c13f8ba1",
      "086d2c21c35f4a1d96a76f9ce0e66552",
      "cf8648644f6f42d48590562a8d355347",
      "24f869434d174b02bc1a5291a0576ac3",
      "fc0e7adc87e84eb28113fd78e302a935",
      "e2b0db18dbd54494a8da1d8e30b9d028",
      "b60ef06ec8fc49468e7d9d59776d0670",
      "c34ee300471547c4bf8f5fd87ef08802",
      "1a8bac12babf40c793ad589c8c1b1c00",
      "8087c79842fd4194a91c5fd8b1a95061",
      "86b72f2b5cde47e7bc5e4dfca8253d72"
     ]
    },
    "id": "98aa8fc5",
    "outputId": "dfdc2564-7866-4325-e6ee-6cfbb9c77eff"
   },
   "outputs": [
    {
     "data": {
      "application/vnd.jupyter.widget-view+json": {
       "model_id": "e33a51e640da4f67859c596a65d6cc20",
       "version_major": 2,
       "version_minor": 0
      },
      "text/plain": [
       "Loading checkpoint shards:   0%|          | 0/3 [00:00<?, ?it/s]"
      ]
     },
     "metadata": {},
     "output_type": "display_data"
    },
    {
     "name": "stderr",
     "output_type": "stream",
     "text": [
      "c:\\Users\\Zahinos\\Desktop\\AI\\Week5\\Day5(4)\\lab-qlora-tuning-peft\\.conda\\Lib\\site-packages\\transformers\\models\\auto\\tokenization_auto.py:902: FutureWarning: The `use_auth_token` argument is deprecated and will be removed in v5 of Transformers. Please use `token` instead.\n",
      "  warnings.warn(\n"
     ]
    }
   ],
   "source": [
    "from huggingface_hub import login\n",
    "login(new_session=False)\n",
    "\n",
    "\n",
    "#!pip install git+https://github.com/huggingface/accelerate.git\n",
    "#!pip install git+https://github.com/huggingface/transformers.git\n",
    "#!pip install BitsAndBytes\n",
    "import torch\n",
    "from transformers import AutoTokenizer, AutoModelForCausalLM, pipeline, BitsAndBytesConfig\n",
    "from dotenv import load_dotenv\n",
    "import os\n",
    "\n",
    "\n",
    "\n",
    "load_dotenv()\n",
    "hf_key = os.getenv(\"HF_KEY\") # We need our Hugging Face API key to access gated models\n",
    "\n",
    "\n",
    "# Load your saved model and tokenizer (update the path or model name as needed)\n",
    "model_path = \"mistralai/Mistral-7B-Instruct-v0.2\"\n",
    "\n",
    "# To minimize memory usage, without giving up precision, we will use 8-bit quantization instead of 32 with BitsAndBytesConfig\n",
    "bnb_config = BitsAndBytesConfig(\n",
    "    load_in_8bit=True,\n",
    "    bnb_8bit_quant_type=\"nf8\",\n",
    "    bnb_8bit_compute_dtype=torch.float16,\n",
    "    bnb_8bit_use_double_quant=False,\n",
    ")\n",
    "\n",
    "# Load the quantized model and tokenizer\n",
    "blog_model = AutoModelForCausalLM.from_pretrained(\n",
    "    model_path,\n",
    "    quantization_config=bnb_config,\n",
    "    device_map=\"auto\",\n",
    "    use_auth_token=hf_key\n",
    ")\n",
    "blog_tokenizer = AutoTokenizer.from_pretrained(model_path, use_auth_token=hf_key)"
   ]
  },
  {
   "cell_type": "code",
   "execution_count": null,
   "id": "f087f869",
   "metadata": {
    "colab": {
     "base_uri": "https://localhost:8080/"
    },
    "id": "f087f869",
    "outputId": "04d9d370-205a-425d-ee51-6ae5d21dad0e"
   },
   "outputs": [],
   "source": [
    "# Save the blog generator model and tokenizer locally\n",
    "blog_model.save_pretrained('blog_generator')\n",
    "blog_tokenizer.save_pretrained('blog_generator')"
   ]
  },
  {
   "cell_type": "markdown",
   "id": "3251346e",
   "metadata": {},
   "source": [
    "### Generate Blog-style Product Reviews per Category\n",
    "This function creates realistic, helpful blog posts for each product category using a text generation model (like Mistral or GPT).\n",
    "\n",
    "Key Features:\n",
    "Sentiment Mapping: Converts labeled sentiment (positive, neutral, negative) into numeric scores to rank products.\n",
    "\n",
    "Top Products and Complaints: For each category, it selects the top-rated products and extracts the most common complaints from negative reviews.\n",
    "\n",
    "Few-shot Prompting: Uses a detailed prompt with multiple category examples to guide the model on how to write structured, helpful content.\n",
    "\n",
    "Dynamic Prompt Creation: The function builds a unique prompt per category with actual product names, ratings, review counts, and complaint keywords.\n",
    "\n",
    "Worst Product Highlight: Optionally includes a warning about the worst-rated product in the category.\n",
    "\n",
    "Friendly and Informative Output: Uses a generation pipeline to produce human-like text tailored to help consumers make purchase decisions.\n",
    "\n",
    "This is useful for turning structured review data into narrative content ready for blogs, newsletters, or product pages."
   ]
  },
  {
   "cell_type": "code",
   "execution_count": 14,
   "id": "52427eb0",
   "metadata": {
    "id": "52427eb0"
   },
   "outputs": [],
   "source": [
    "def generate_blogposts_for_all_categories(\n",
    "    df,\n",
    "    generator,\n",
    "    n_shot_prompt=None,\n",
    "    n_top_products=3,\n",
    "    n_complaints=2,\n",
    "    max_new_tokens=800,\n",
    "    temperature=0.4,\n",
    "    top_p=0.9,\n",
    "    repetition_penalty=1.1\n",
    "):\n",
    "    from nltk.corpus import stopwords\n",
    "    from collections import Counter\n",
    "\n",
    "    # Set up text generation pipeline\n",
    "    #generator = pipeline(\"text-generation\", model=model, tokenizer=blog_tokenizer)  # Use device=0 for GPU, -1 for CPU\n",
    "\n",
    "    # Map sentiment labels to numeric scores\n",
    "    sentiment_map = {'positive': 2, 'neutral': 1, 'negative': 0}\n",
    "    df['sentiment_points'] = df['sentiment'].map(sentiment_map)\n",
    "    blogposts = []\n",
    "    def get_top_complaints(df, product_name, n=n_complaints):\n",
    "        neg_reviews = df[(df['name'] == product_name) & (df['sentiment'] == 'negative')]['combined_reviews']\n",
    "        words = ' '.join(neg_reviews).split()\n",
    "        stop_words = set(stopwords.words('english'))\n",
    "        filtered_words = [w.lower() for w in words if w.lower() not in stop_words and len(w) > 2]\n",
    "        most_common = Counter(filtered_words).most_common(n)\n",
    "        return [word for word, _ in most_common]\n",
    "\n",
    "    n_shot_prompt = \"\"\"\n",
    "--- Blogpost for E-readers ---\n",
    "Looking for the perfect e-reader? Here are our top picks!\n",
    "1. Kindle Paperwhite (Avg. Rating: 4.8, 1200 reviews)\n",
    "   Top complaints: screen glare, slow refresh\n",
    "2. Kobo Clara HD (Avg. Rating: 4.7, 950 reviews)\n",
    "   Top complaints: limited store, battery life\n",
    "3. Kindle Oasis (Avg. Rating: 4.6, 800 reviews)\n",
    "   Top complaints: price, weight\n",
    "\n",
    "The Kindle Paperwhite stands out for its crisp display and waterproof design, making it ideal for reading anywhere. Kobo Clara HD is a great alternative with support for multiple formats, though some users wish for a larger store. The Kindle Oasis offers premium features, but its higher price and weight are noted by some reviewers.\n",
    "\n",
    "The worst product is the Nook GlowLight 3 (Avg. Rating: 3.2).\n",
    "Many customers report slow performance and frequent software glitches. Unless you’re a die-hard Nook fan, we recommend considering other options for a smoother reading experience.\n",
    "---\n",
    "--- Blogpost for Smart Tablets ---\n",
    "Shopping for a smart tablet? Here are the top choices this year:\n",
    "1. Apple iPad Air (Avg. Rating: 4.9, 2100 reviews)\n",
    "   Top complaints: price, limited ports\n",
    "2. Samsung Galaxy Tab S7 (Avg. Rating: 4.8, 1800 reviews)\n",
    "   Top complaints: bloatware, charger speed\n",
    "3. Amazon Fire HD 10 (Avg. Rating: 4.5, 1600 reviews)\n",
    "   Top complaints: app selection, ads\n",
    "\n",
    "The iPad Air is praised for its speed and display quality, though it comes at a premium. The Galaxy Tab S7 offers excellent multitasking, but some users dislike the pre-installed apps. The Fire HD 10 is a budget-friendly option, but its app ecosystem is more limited.\n",
    "\n",
    "The worst product is the Lenovo Tab M8 (Avg. Rating: 3.4).\n",
    "Users mention sluggish performance and a lackluster screen. For a better experience, consider one of the top-rated tablets above.\n",
    "---\n",
    "--- Blogpost for Smart Home Essentials ---\n",
    "Upgrade your home with these smart essentials:\n",
    "1. Amazon Echo Dot (Avg. Rating: 4.8, 3000 reviews)\n",
    "   Top complaints: privacy, sound quality\n",
    "2. Google Nest Hub (Avg. Rating: 4.7, 2500 reviews)\n",
    "   Top complaints: screen size, setup\n",
    "3. Philips Hue Bulb (Avg. Rating: 4.6, 2200 reviews)\n",
    "   Top complaints: app issues, price\n",
    "\n",
    "The Echo Dot is a favorite for its versatility and Alexa integration. Google Nest Hub excels at smart home control, though some wish for a larger display. Philips Hue bulbs offer vibrant lighting, but the app can be finicky.\n",
    "\n",
    "The worst product is the TP-Link Kasa Smart Plug Mini (Avg. Rating: 3.5).\n",
    "Customers report unreliable connections and confusing setup. For a hassle-free smart home, stick with the top picks.\n",
    "---\n",
    "--- Blogpost for Batteries ---\n",
    "Need reliable batteries? Here’s what reviewers recommend:\n",
    "1. Energizer AA Lithium (Avg. Rating: 4.9, 1400 reviews)\n",
    "   Top complaints: price, packaging\n",
    "2. AmazonBasics AA (Avg. Rating: 4.7, 1200 reviews)\n",
    "   Top complaints: longevity, leakage\n",
    "3. Duracell CopperTop (Avg. Rating: 4.6, 1100 reviews)\n",
    "   Top complaints: cost, expiration\n",
    "\n",
    "Energizer AA Lithium batteries are praised for their long life, though they’re pricier. AmazonBasics offer good value, but some users report shorter lifespan. Duracell CopperTop is a trusted classic, but check expiration dates.\n",
    "\n",
    "The worst product is Rayovac AA (Avg. Rating: 3.3).\n",
    "Many users mention quick drain and occasional leaks. For peace of mind, choose one of the top-rated options above.\n",
    "---\n",
    "    \"\"\"\n",
    "    for category in df['clustered_category'].unique():\n",
    "        cat_df = df[df['clustered_category'] == category]\n",
    "        unique_products = cat_df['name'].nunique()\n",
    "        if unique_products == 0:\n",
    "            continue\n",
    "\n",
    "        # Compute product scores for ranking (by sentiment_points)\n",
    "        product_scores = (\n",
    "            cat_df.groupby('name')['sentiment_points']\n",
    "            .agg(['mean', 'count'])\n",
    "            .sort_values(by=['mean', 'count'], ascending=[False, False])\n",
    "            .reset_index()\n",
    "        )\n",
    "\n",
    "        # For display: get average rating from 'reviews.rating'\n",
    "        avg_ratings = cat_df.groupby('name')['reviews.rating'].mean()\n",
    "\n",
    "        # Determine how many to show as top and which is worst\n",
    "        if unique_products == 1:\n",
    "            top_n = 1\n",
    "            show_worst = False\n",
    "        elif unique_products == 2:\n",
    "            top_n = 1\n",
    "            show_worst = True\n",
    "        elif unique_products == 3:\n",
    "            top_n = 2\n",
    "            show_worst = True\n",
    "        else:\n",
    "            top_n = 3\n",
    "            show_worst = True\n",
    "\n",
    "        top_products = product_scores.head(top_n)\n",
    "        if show_worst:\n",
    "            worst_product = product_scores.tail(1)\n",
    "        else:\n",
    "            worst_product = None\n",
    "\n",
    "        # Collect top complaints for top products\n",
    "        complaints = {\n",
    "            row['name']: get_top_complaints(cat_df, row['name'])\n",
    "            for _, row in top_products.iterrows()\n",
    "        }\n",
    "\n",
    "        # Compose the prompt\n",
    "        category_prompt = f\"\\n\\n### Blogpost:\\n\\n\"\n",
    "        category_prompt += f\"You are a product reviewer. Write a short, helpful blogpost for customers shopping for {category}.\\n\"\n",
    "        category_prompt += f\"- The top {top_n} product{'s are' if top_n > 1 else ' is'}:\\n\"\n",
    "\n",
    "        for i, row in top_products.iterrows():\n",
    "            name = row['name']\n",
    "            avg_rating = avg_ratings[name]\n",
    "            review_count = int(row['count'])\n",
    "            top_complaints = complaints[name]\n",
    "            complaint_text = ', '.join(top_complaints) if top_complaints else 'Few complaints!'\n",
    "            category_prompt += f\"{i+1}. {name} (Avg. Rating: {avg_rating:.2f}, {review_count} reviews)\\n\"\n",
    "            category_prompt += f\"   Top complaints: {complaint_text}\\n\"\n",
    "\n",
    "        # Include the worst product details if applicable\n",
    "        if show_worst and worst_product is not None:\n",
    "            worst_name = worst_product.iloc[0]['name']\n",
    "            worst_avg_rating = avg_ratings[worst_name]\n",
    "            category_prompt += f\"\\nThe worst product is {worst_name} (Avg. Rating: {worst_avg_rating:.2f}).\\n\"\n",
    "            category_prompt += \"Explain why customers should avoid the worst product from the category, based on reviews.\\n\"\n",
    "\n",
    "        category_prompt += \"Write the blog entry in a friendly, informative tone.\\n\"\n",
    "\n",
    "        prompt = n_shot_prompt + category_prompt\n",
    "        generated = generator(\n",
    "            prompt,\n",
    "            max_new_tokens=max_new_tokens,\n",
    "            do_sample=True,\n",
    "            temperature=temperature,\n",
    "            top_p=top_p,\n",
    "            repetition_penalty=repetition_penalty\n",
    "        )[0]['generated_text']\n",
    "        blog_output = generated.split(\"Write the blog entry in a friendly, informative tone.\")[-1].strip()\n",
    "        blogposts.append(f\"--- Blogpost for {category} ---\\n\\n{blog_output}\")\n",
    "\n",
    "    return blogposts"
   ]
  },
  {
   "cell_type": "markdown",
   "id": "502dc665",
   "metadata": {},
   "source": [
    "### Generate Blog-style Articles\n",
    "Using a language model, we generate product recommendation content for each category."
   ]
  },
  {
   "cell_type": "code",
   "execution_count": 15,
   "id": "vYEqV3PXnoou",
   "metadata": {
    "colab": {
     "base_uri": "https://localhost:8080/"
    },
    "id": "vYEqV3PXnoou",
    "outputId": "9bccf7ea-7066-4677-aac3-6edbc07b5259"
   },
   "outputs": [
    {
     "name": "stderr",
     "output_type": "stream",
     "text": [
      "Device set to use cpu\n",
      "Setting `pad_token_id` to `eos_token_id`:2 for open-end generation.\n",
      "Setting `pad_token_id` to `eos_token_id`:2 for open-end generation.\n",
      "Setting `pad_token_id` to `eos_token_id`:2 for open-end generation.\n",
      "Setting `pad_token_id` to `eos_token_id`:2 for open-end generation.\n"
     ]
    },
    {
     "name": "stdout",
     "output_type": "stream",
     "text": [
      "--- Blogpost for E-Readers ---\n",
      "\n",
      "---\n",
      "Hello, book lovers! If you're in the market for an e-reader, you've come to the right place. Today, I want to share my top three recommendations for e-readers that have received rave reviews from customers.\n",
      "\n",
      "First up, we have the All-New Kindle Oasis E-reader. This sleek device boasts a high-resolution 7-inch display with a sharp 300 pixels per inch (ppi). It's also waterproof, so you can read worry-free by the pool or in the bath. Plus, it comes with built-in Audible, allowing you to listen to your books aloud. With 8GB of storage, you'll have plenty of room for all your literary favorites. And the best part? There aren't many complaints about this e-reader!\n",
      "\n",
      "Next, we have the Kindle Voyage E-reader. Similar to the Oasis, the Voyage has a beautiful 6-inch high-resolution display with 300 ppi. But what sets it apart is its adaptive built-in light, which adjusts to your environment for optimal reading comfort. It also features pagepress sensors, allowing you to turn pages without even touching the screen. Again, this e-reader has very few complaints from customers.\n",
      "\n",
      "Lastly, we have the Fire HD 8 Tablet. While not strictly an e-reader, this affordable tablet is a great option if you'd like to read digital books as well as stream videos, browse the web, and use various apps. It comes with Alexa built-in, making it easy to find information hands-free. And despite being a budget option, it still receives excellent reviews from customers.\n",
      "\n",
      "Now, let me warn you against one product that you might encounter during your search. The Oem Amazon Kindle Power Usb Adapter Wall Travel Charger Fire/dx/+micro Usb Cable has an average rating of just 1.00 stars. Customers report that it doesn't work properly, takes forever to charge devices, and sometimes even damages them. So, if you're looking for a charger for your new e-reader, steer clear of this one and opt for a more reputable brand instead.\n",
      "\n",
      "Happy reading, and I hope this guide helps you make an informed decision when choosing your next e-reader!\n",
      "\n",
      "================================================================================\n",
      "\n",
      "--- Blogpost for Tablet Devices ---\n",
      "\n",
      "---\n",
      "Hello, tech enthusiasts! If you're in the market for a new tablet device, you've come to the right place. Today, we'll be discussing two fantastic options that have received rave reviews from customers. But first, let me warn you about a dud that you might want to steer clear of.\n",
      "\n",
      "First up, the best of the best: the **Apple iPad Pro 11-inch**. With an average rating of 5.00 based on just one review, this tablet has left a perfect impression. There aren't many complaints about this device, which speaks volumes about its quality. It boasts a stunning 11-inch Liquid Retina display, powerful A12Z Bionic chip, and long battery life. If you're looking for a top-of-the-line tablet, the iPad Pro is definitely worth considering.\n",
      "\n",
      "Next, we have the **Amazon Fire Tablet, 7 Display, Wi-Fi, 8 GB - Black**. This budget-friendly option has earned an impressive average rating of 4.45 from over ten thousand reviews. Customers love its affordable price point, long battery life, and easy-to-use interface. However, keep in mind that it may not offer the same level of performance as more expensive tablets.\n",
      "\n",
      "Now, let's talk about the tablet you should avoid: the **Brand New Amazon Kindle Fire 16gb 7 Ips Display Tablet Wifi 16 Gb Blue**. Despite its name, this tablet has received a disappointing average rating of 4.60. Many reviewers have reported issues with the tablet freezing or crashing frequently. Some have also mentioned poor build quality and subpar display resolution. Given these concerns, it's best to pass on this model and opt for one of the top-rated tablets instead.\n",
      "\n",
      "So there you have it, folks! Whether you're looking for a high-end tablet or a more affordable option, I hope this information helps you make an informed decision. Happy shopping!\n",
      "\n",
      "================================================================================\n",
      "\n",
      "--- Blogpost for Amazon Devices ---\n",
      "\n",
      "---\n",
      "Hello, fellow tech enthusiasts! If you're in the market for Amazon devices, I've got some exciting recommendations for you. Today, we'll be looking at three top-rated items that have received rave reviews from customers. But first, let me warn you about a dud in the lineup that you might want to steer clear of.\n",
      "\n",
      "First up, we have the Kindle Dx Leather Cover for the latest and second generation Kindle Dxs. This sleek and stylish cover has an average rating of 4.78, with only a few minor complaints. Customers love how well it fits and protects their devices without adding too much bulk.\n",
      "\n",
      "Next, we have the Amazon 5W USB Official OEM Charger and Power Adapter for Fire Tablets and Kindle eReaders. With an impressive average rating of 4.71, this charger has very few complaints. It's fast, reliable, and works perfectly with all Amazon devices.\n",
      "\n",
      "Our third pick is the Amazon Fire HD 6 Standing Protective Case in the vibrant Cayenne Red color. With a near-perfect average rating of 4.83, this case is a must-have for anyone who wants to keep their Fire HD 6 safe and secure. It's sturdy, easy to use, and looks fantastic.\n",
      "\n",
      "Now, let me tell you about the product you should avoid – the Amazon Tap Smart Assistant Alexa-enabled in black. Despite being brand new, this device has an average rating of just 4.09. Many customers have reported issues with connectivity, poor sound quality, and a confusing user interface. Some even mentioned that the device stopped working after just a few weeks of use. So if you're in the market for a smart assistant, I would strongly advise you to look elsewhere.\n",
      "\n",
      "I hope this information helps you make an informed decision when shopping for Amazon devices. Happy browsing!\n",
      "\n",
      "================================================================================\n",
      "\n",
      "--- Blogpost for Battery Packs ---\n",
      "\n",
      "---\n",
      "\n",
      "Title: Your Ultimate Guide to Choosing the Best Battery Pack for Your Needs\n",
      "\n",
      "Hello, fellow shoppers! Today, we're diving into the world of battery packs to help you make an informed decision when selecting the best one for your devices. Whether you're always on the go or just need a backup power source, there's a battery pack out there that fits your lifestyle. But first, let's discuss what to avoid.\n",
      "\n",
      "One particular battery pack that has caught our attention for all the wrong reasons is the AmazonBasics AAA Performance Alkaline Batteries (36 Count). With an average rating of 4.40, it might seem like a decent choice at first glance. However, upon closer inspection, customer reviews reveal some major concerns.\n",
      "\n",
      "First and foremost, several users have reported that the batteries don't last as long as expected. This can be frustrating, especially if you rely on your battery pack to keep your devices charged during long trips or power outages. Additionally, some customers mentioned that the batteries sometimes leak, which could potentially damage your devices.\n",
      "\n",
      "Now, let's focus on the top pick in this category – the AmazonBasics AA Performance Alkaline Batteries (48 Count) – Packaging May Vary. With an impressive average rating of 4.42 based on over 3,300 reviews, this battery pack stands out for its reliability and affordability.\n",
      "\n",
      "These batteries deliver consistent performance and are suitable for various devices, including digital cameras, remote controls, and toys. While some customers have mentioned issues with the packaging, the batteries themselves are generally well-regarded for their long life and dependability.\n",
      "\n",
      "So, if you're looking for a battery pack that won't disappoint, give the AmazonBasics AA Performance Alkaline Batteries (48 Count) a try. And remember, always read reviews carefully before making a purchase to ensure you're getting the best possible product for your needs. Happy shopping!\n",
      "\n",
      "================================================================================\n",
      "\n"
     ]
    }
   ],
   "source": [
    "# --- Generate blog posts ---\n",
    "blog_generator = pipeline(\"text-generation\", model=blog_model, tokenizer=blog_tokenizer)\n",
    "blogposts = generate_blogposts_for_all_categories(df, generator=blog_generator)\n",
    "\n",
    "# --- Display blog posts ---\n",
    "for post in blogposts:\n",
    "    print(post)\n",
    "    print(\"\\n\" + \"=\"*80 + \"\\n\")"
   ]
  }
 ],
 "metadata": {
  "accelerator": "GPU",
  "colab": {
   "gpuType": "L4",
   "machine_shape": "hm",
   "provenance": []
  },
  "kernelspec": {
   "display_name": "Python 3",
   "name": "python3"
  },
  "language_info": {
   "codemirror_mode": {
    "name": "ipython",
    "version": 3
   },
   "file_extension": ".py",
   "mimetype": "text/x-python",
   "name": "python",
   "nbconvert_exporter": "python",
   "pygments_lexer": "ipython3",
   "version": "3.12.11"
  },
  "widgets": {
   "application/vnd.jupyter.widget-state+json": {
    "086d2c21c35f4a1d96a76f9ce0e66552": {
     "model_module": "@jupyter-widgets/controls",
     "model_module_version": "1.5.0",
     "model_name": "HTMLModel",
     "state": {
      "_dom_classes": [],
      "_model_module": "@jupyter-widgets/controls",
      "_model_module_version": "1.5.0",
      "_model_name": "HTMLModel",
      "_view_count": null,
      "_view_module": "@jupyter-widgets/controls",
      "_view_module_version": "1.5.0",
      "_view_name": "HTMLView",
      "description": "",
      "description_tooltip": null,
      "layout": "IPY_MODEL_e2b0db18dbd54494a8da1d8e30b9d028",
      "placeholder": "​",
      "style": "IPY_MODEL_b60ef06ec8fc49468e7d9d59776d0670",
      "value": "Loading checkpoint shards: 100%"
     }
    },
    "1a8bac12babf40c793ad589c8c1b1c00": {
     "model_module": "@jupyter-widgets/controls",
     "model_module_version": "1.5.0",
     "model_name": "ProgressStyleModel",
     "state": {
      "_model_module": "@jupyter-widgets/controls",
      "_model_module_version": "1.5.0",
      "_model_name": "ProgressStyleModel",
      "_view_count": null,
      "_view_module": "@jupyter-widgets/base",
      "_view_module_version": "1.2.0",
      "_view_name": "StyleView",
      "bar_color": null,
      "description_width": ""
     }
    },
    "24f869434d174b02bc1a5291a0576ac3": {
     "model_module": "@jupyter-widgets/controls",
     "model_module_version": "1.5.0",
     "model_name": "HTMLModel",
     "state": {
      "_dom_classes": [],
      "_model_module": "@jupyter-widgets/controls",
      "_model_module_version": "1.5.0",
      "_model_name": "HTMLModel",
      "_view_count": null,
      "_view_module": "@jupyter-widgets/controls",
      "_view_module_version": "1.5.0",
      "_view_name": "HTMLView",
      "description": "",
      "description_tooltip": null,
      "layout": "IPY_MODEL_8087c79842fd4194a91c5fd8b1a95061",
      "placeholder": "​",
      "style": "IPY_MODEL_86b72f2b5cde47e7bc5e4dfca8253d72",
      "value": " 3/3 [00:19&lt;00:00,  6.38s/it]"
     }
    },
    "8087c79842fd4194a91c5fd8b1a95061": {
     "model_module": "@jupyter-widgets/base",
     "model_module_version": "1.2.0",
     "model_name": "LayoutModel",
     "state": {
      "_model_module": "@jupyter-widgets/base",
      "_model_module_version": "1.2.0",
      "_model_name": "LayoutModel",
      "_view_count": null,
      "_view_module": "@jupyter-widgets/base",
      "_view_module_version": "1.2.0",
      "_view_name": "LayoutView",
      "align_content": null,
      "align_items": null,
      "align_self": null,
      "border": null,
      "bottom": null,
      "display": null,
      "flex": null,
      "flex_flow": null,
      "grid_area": null,
      "grid_auto_columns": null,
      "grid_auto_flow": null,
      "grid_auto_rows": null,
      "grid_column": null,
      "grid_gap": null,
      "grid_row": null,
      "grid_template_areas": null,
      "grid_template_columns": null,
      "grid_template_rows": null,
      "height": null,
      "justify_content": null,
      "justify_items": null,
      "left": null,
      "margin": null,
      "max_height": null,
      "max_width": null,
      "min_height": null,
      "min_width": null,
      "object_fit": null,
      "object_position": null,
      "order": null,
      "overflow": null,
      "overflow_x": null,
      "overflow_y": null,
      "padding": null,
      "right": null,
      "top": null,
      "visibility": null,
      "width": null
     }
    },
    "86b72f2b5cde47e7bc5e4dfca8253d72": {
     "model_module": "@jupyter-widgets/controls",
     "model_module_version": "1.5.0",
     "model_name": "DescriptionStyleModel",
     "state": {
      "_model_module": "@jupyter-widgets/controls",
      "_model_module_version": "1.5.0",
      "_model_name": "DescriptionStyleModel",
      "_view_count": null,
      "_view_module": "@jupyter-widgets/base",
      "_view_module_version": "1.2.0",
      "_view_name": "StyleView",
      "description_width": ""
     }
    },
    "b60ef06ec8fc49468e7d9d59776d0670": {
     "model_module": "@jupyter-widgets/controls",
     "model_module_version": "1.5.0",
     "model_name": "DescriptionStyleModel",
     "state": {
      "_model_module": "@jupyter-widgets/controls",
      "_model_module_version": "1.5.0",
      "_model_name": "DescriptionStyleModel",
      "_view_count": null,
      "_view_module": "@jupyter-widgets/base",
      "_view_module_version": "1.2.0",
      "_view_name": "StyleView",
      "description_width": ""
     }
    },
    "c34ee300471547c4bf8f5fd87ef08802": {
     "model_module": "@jupyter-widgets/base",
     "model_module_version": "1.2.0",
     "model_name": "LayoutModel",
     "state": {
      "_model_module": "@jupyter-widgets/base",
      "_model_module_version": "1.2.0",
      "_model_name": "LayoutModel",
      "_view_count": null,
      "_view_module": "@jupyter-widgets/base",
      "_view_module_version": "1.2.0",
      "_view_name": "LayoutView",
      "align_content": null,
      "align_items": null,
      "align_self": null,
      "border": null,
      "bottom": null,
      "display": null,
      "flex": null,
      "flex_flow": null,
      "grid_area": null,
      "grid_auto_columns": null,
      "grid_auto_flow": null,
      "grid_auto_rows": null,
      "grid_column": null,
      "grid_gap": null,
      "grid_row": null,
      "grid_template_areas": null,
      "grid_template_columns": null,
      "grid_template_rows": null,
      "height": null,
      "justify_content": null,
      "justify_items": null,
      "left": null,
      "margin": null,
      "max_height": null,
      "max_width": null,
      "min_height": null,
      "min_width": null,
      "object_fit": null,
      "object_position": null,
      "order": null,
      "overflow": null,
      "overflow_x": null,
      "overflow_y": null,
      "padding": null,
      "right": null,
      "top": null,
      "visibility": null,
      "width": null
     }
    },
    "cf8648644f6f42d48590562a8d355347": {
     "model_module": "@jupyter-widgets/controls",
     "model_module_version": "1.5.0",
     "model_name": "FloatProgressModel",
     "state": {
      "_dom_classes": [],
      "_model_module": "@jupyter-widgets/controls",
      "_model_module_version": "1.5.0",
      "_model_name": "FloatProgressModel",
      "_view_count": null,
      "_view_module": "@jupyter-widgets/controls",
      "_view_module_version": "1.5.0",
      "_view_name": "ProgressView",
      "bar_style": "success",
      "description": "",
      "description_tooltip": null,
      "layout": "IPY_MODEL_c34ee300471547c4bf8f5fd87ef08802",
      "max": 3,
      "min": 0,
      "orientation": "horizontal",
      "style": "IPY_MODEL_1a8bac12babf40c793ad589c8c1b1c00",
      "value": 3
     }
    },
    "d6ba10d607bc4bd3baa44205c13f8ba1": {
     "model_module": "@jupyter-widgets/controls",
     "model_module_version": "1.5.0",
     "model_name": "HBoxModel",
     "state": {
      "_dom_classes": [],
      "_model_module": "@jupyter-widgets/controls",
      "_model_module_version": "1.5.0",
      "_model_name": "HBoxModel",
      "_view_count": null,
      "_view_module": "@jupyter-widgets/controls",
      "_view_module_version": "1.5.0",
      "_view_name": "HBoxView",
      "box_style": "",
      "children": [
       "IPY_MODEL_086d2c21c35f4a1d96a76f9ce0e66552",
       "IPY_MODEL_cf8648644f6f42d48590562a8d355347",
       "IPY_MODEL_24f869434d174b02bc1a5291a0576ac3"
      ],
      "layout": "IPY_MODEL_fc0e7adc87e84eb28113fd78e302a935"
     }
    },
    "e2b0db18dbd54494a8da1d8e30b9d028": {
     "model_module": "@jupyter-widgets/base",
     "model_module_version": "1.2.0",
     "model_name": "LayoutModel",
     "state": {
      "_model_module": "@jupyter-widgets/base",
      "_model_module_version": "1.2.0",
      "_model_name": "LayoutModel",
      "_view_count": null,
      "_view_module": "@jupyter-widgets/base",
      "_view_module_version": "1.2.0",
      "_view_name": "LayoutView",
      "align_content": null,
      "align_items": null,
      "align_self": null,
      "border": null,
      "bottom": null,
      "display": null,
      "flex": null,
      "flex_flow": null,
      "grid_area": null,
      "grid_auto_columns": null,
      "grid_auto_flow": null,
      "grid_auto_rows": null,
      "grid_column": null,
      "grid_gap": null,
      "grid_row": null,
      "grid_template_areas": null,
      "grid_template_columns": null,
      "grid_template_rows": null,
      "height": null,
      "justify_content": null,
      "justify_items": null,
      "left": null,
      "margin": null,
      "max_height": null,
      "max_width": null,
      "min_height": null,
      "min_width": null,
      "object_fit": null,
      "object_position": null,
      "order": null,
      "overflow": null,
      "overflow_x": null,
      "overflow_y": null,
      "padding": null,
      "right": null,
      "top": null,
      "visibility": null,
      "width": null
     }
    },
    "fc0e7adc87e84eb28113fd78e302a935": {
     "model_module": "@jupyter-widgets/base",
     "model_module_version": "1.2.0",
     "model_name": "LayoutModel",
     "state": {
      "_model_module": "@jupyter-widgets/base",
      "_model_module_version": "1.2.0",
      "_model_name": "LayoutModel",
      "_view_count": null,
      "_view_module": "@jupyter-widgets/base",
      "_view_module_version": "1.2.0",
      "_view_name": "LayoutView",
      "align_content": null,
      "align_items": null,
      "align_self": null,
      "border": null,
      "bottom": null,
      "display": null,
      "flex": null,
      "flex_flow": null,
      "grid_area": null,
      "grid_auto_columns": null,
      "grid_auto_flow": null,
      "grid_auto_rows": null,
      "grid_column": null,
      "grid_gap": null,
      "grid_row": null,
      "grid_template_areas": null,
      "grid_template_columns": null,
      "grid_template_rows": null,
      "height": null,
      "justify_content": null,
      "justify_items": null,
      "left": null,
      "margin": null,
      "max_height": null,
      "max_width": null,
      "min_height": null,
      "min_width": null,
      "object_fit": null,
      "object_position": null,
      "order": null,
      "overflow": null,
      "overflow_x": null,
      "overflow_y": null,
      "padding": null,
      "right": null,
      "top": null,
      "visibility": null,
      "width": null
     }
    }
   }
  }
 },
 "nbformat": 4,
 "nbformat_minor": 5
}
