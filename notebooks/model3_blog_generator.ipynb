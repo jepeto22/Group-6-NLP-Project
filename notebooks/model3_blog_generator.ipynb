{
 "cells": [
  {
   "cell_type": "markdown",
   "id": "e4f7c8c8",
   "metadata": {},
   "source": [
    "## Generate blogposts for all categories"
   ]
  },
  {
   "cell_type": "markdown",
   "id": "270f8fe3",
   "metadata": {},
   "source": [
    "# Blog-style Text Generator using Pre-trained Language Model\n",
    "This notebook generates blog-like summaries that help users choose among products.\n",
    "It takes clustered product data and creates human-readable reviews using a language model."
   ]
  },
  {
   "cell_type": "code",
   "execution_count": null,
   "id": "cbe680de",
   "metadata": {},
   "outputs": [],
   "source": [
    "def generate_blogposts_for_all_categories(\n",
    "    df_combined,\n",
    "    generator,\n",
    "    n_shot_prompt=None,\n",
    "    n_top_products=3,\n",
    "    n_complaints=3,\n",
    "    max_new_tokens=800,\n",
    "    temperature=0.4,\n",
    "    top_p=0.9,\n",
    "    repetition_penalty=1.1\n",
    "):\n",
    "    \"\"\"\n",
    "    For each unique category in df_combined['clustered_category'], generates a blogpost using the provided generator pipeline.\n",
    "    Prints the blogpost for each category.\n",
    "    \"\"\"\n",
    "    from nltk.corpus import stopwords\n",
    "    from collections import Counter"
   ]
  },
  {
   "cell_type": "markdown",
   "id": "5af94655",
   "metadata": {},
   "source": [
    "### Step 1: Import Required Libraries\n",
    "These include utilities for data manipulation and the text generation model."
   ]
  },
  {
   "cell_type": "code",
   "execution_count": null,
   "id": "59b9251e",
   "metadata": {},
   "outputs": [],
   "source": [
    "# Helper to extract top complaints\n",
    "    def get_top_complaints(df, product_name, n=n_complaints):\n",
    "        neg_reviews = df[(df['name'] == product_name) & (df['sentiment'] == 'negative')]['combined_reviews']\n",
    "        words = ' '.join(neg_reviews).split()\n",
    "        stop_words = set(stopwords.words('english'))\n",
    "        filtered_words = [w.lower() for w in words if w.lower() not in stop_words and len(w) > 2]\n",
    "        most_common = Counter(filtered_words).most_common(n)\n",
    "        return [word for word, _ in most_common]"
   ]
  },
  {
   "cell_type": "markdown",
   "id": "34381f6d",
   "metadata": {},
   "source": [
    "### Step 2: Define Prompt Template (Few-shot)\n",
    "This template guides the language model on how to structure the generated article."
   ]
  },
  {
   "cell_type": "code",
   "execution_count": null,
   "id": "f74e2862",
   "metadata": {},
   "outputs": [],
   "source": [
    "# Default n-shot prompt if not provided\n",
    "    if n_shot_prompt is None:\n",
    "        n_shot_prompt = \"\"\"\n",
    "--- Blogpost for E-readers ---\n",
    "(Example blog post here...)"
   ]
  },
  {
   "cell_type": "markdown",
   "id": "91520949",
   "metadata": {},
   "source": [
    "### Step 3: Define Text Generation Function\n",
    "The `generate_blogposts_for_all_categories` function loops through product categories and generates a paragraph\n",
    "of blog-style content based on the top-rated products, most common complaints, and overall quality."
   ]
  },
  {
   "cell_type": "code",
   "execution_count": null,
   "id": "5cc0cd43",
   "metadata": {},
   "outputs": [],
   "source": [
    "--- Blogpost for Smart Tablets ---\n",
    "(Example blog post here...)"
   ]
  },
  {
   "cell_type": "markdown",
   "id": "56440d9f",
   "metadata": {},
   "source": [
    "### Step 4: Loop Over Each Category\n",
    "The model generates one blog post per category, combining the key information extracted from the reviews."
   ]
  },
  {
   "cell_type": "code",
   "execution_count": null,
   "id": "58b6fdaa",
   "metadata": {},
   "outputs": [],
   "source": [
    "--- Blogpost for Smart Home Essentials ---\n",
    "(Example blog post here...)"
   ]
  },
  {
   "cell_type": "markdown",
   "id": "18fbb4b7",
   "metadata": {},
   "source": [
    "### Step 5: Save or Print the Blog Posts\n",
    "The final output can be used directly for customer-facing product recommendation platforms."
   ]
  },
  {
   "cell_type": "code",
   "execution_count": null,
   "id": "42cb42a1",
   "metadata": {},
   "outputs": [],
   "source": [
    "--- Blogpost for Batteries ---\n",
    "(Example blog post here...)\n",
    "        \"\"\""
   ]
  },
  {
   "cell_type": "code",
   "execution_count": null,
   "id": "30354c81",
   "metadata": {},
   "outputs": [],
   "source": [
    "for category in df_combined['clustered_category'].unique():\n",
    "        cat_df = df_combined[df_combined['clustered_category'] == category]\n",
    "        if len(cat_df) < n_top_products:\n",
    "            continue  # Skip small categories"
   ]
  },
  {
   "cell_type": "code",
   "execution_count": null,
   "id": "3d71d0f2",
   "metadata": {},
   "outputs": [],
   "source": [
    "# Compute product scores\n",
    "        product_scores = (\n",
    "            cat_df.groupby('name')['sentiment_points']\n",
    "            .agg(['mean', 'count'])\n",
    "            .sort_values(by=['mean', 'count'], ascending=[False, False])\n",
    "            .reset_index()\n",
    "        )"
   ]
  },
  {
   "cell_type": "code",
   "execution_count": null,
   "id": "952f46fe",
   "metadata": {},
   "outputs": [],
   "source": [
    "top_products = product_scores.head(n_top_products)\n",
    "        worst_product = product_scores.tail(1)"
   ]
  },
  {
   "cell_type": "code",
   "execution_count": null,
   "id": "1ab0e51a",
   "metadata": {},
   "outputs": [],
   "source": [
    "# Collect top complaints for top products\n",
    "        complaints = {\n",
    "            row['name']: get_top_complaints(cat_df, row['name'])\n",
    "            for _, row in top_products.iterrows()\n",
    "        }"
   ]
  },
  {
   "cell_type": "code",
   "execution_count": null,
   "id": "1a55a162",
   "metadata": {},
   "outputs": [],
   "source": [
    "# Compose the specific prompt for the current category\n",
    "        category_prompt = f\"\\n\\n### Blogpost:\\n\\n\"\n",
    "        category_prompt += f\"You are a product reviewer. Write a short, helpful blogpost for customers shopping for {category}.\\n\"\n",
    "        category_prompt += \"- The top 3 products are:\\n\""
   ]
  },
  {
   "cell_type": "code",
   "execution_count": null,
   "id": "cd752cc3",
   "metadata": {},
   "outputs": [],
   "source": [
    "for i, row in top_products.iterrows():\n",
    "            name = row['name']\n",
    "            avg_rating = row['mean']\n",
    "            review_count = int(row['count'])\n",
    "            top_complaints = complaints[name]\n",
    "            complaint_text = ', '.join(top_complaints) if top_complaints else 'Few complaints!'\n",
    "            category_prompt += f\"{i+1}. {name} (Avg. Rating: {avg_rating:.2f}, {review_count} reviews)\\n\"\n",
    "            category_prompt += f\"   Top complaints: {complaint_text}\\n\""
   ]
  },
  {
   "cell_type": "code",
   "execution_count": null,
   "id": "724ba88d",
   "metadata": {},
   "outputs": [],
   "source": [
    "# Include the worst product details\n",
    "        worst_name = worst_product.iloc[0]['name']\n",
    "        worst_rating = worst_product.iloc[0]['mean']\n",
    "        category_prompt += f\"\\nThe worst product is {worst_name} (Avg. Rating: {worst_rating:.2f}).\\n\"\n",
    "        category_prompt += \"Explain why customers should avoid the worst product from the category, based on reviews.\\n\"\n",
    "        category_prompt += \"Write the blog entry in a friendly, informative tone.\\n\""
   ]
  },
  {
   "cell_type": "code",
   "execution_count": null,
   "id": "4dd887f5",
   "metadata": {},
   "outputs": [],
   "source": [
    "# Final prompt\n",
    "        prompt = n_shot_prompt + category_prompt"
   ]
  },
  {
   "cell_type": "code",
   "execution_count": null,
   "id": "67d1f223",
   "metadata": {},
   "outputs": [],
   "source": [
    "# Generate blog post\n",
    "        generated = generator(\n",
    "            prompt,\n",
    "            max_new_tokens=max_new_tokens,\n",
    "            do_sample=True,\n",
    "            temperature=temperature,\n",
    "            top_p=top_p,\n",
    "            repetition_penalty=repetition_penalty\n",
    "        )[0]['generated_text']"
   ]
  },
  {
   "cell_type": "code",
   "execution_count": null,
   "id": "d7afbc1f",
   "metadata": {},
   "outputs": [],
   "source": [
    "# Extract model output after prompt\n",
    "        blog_output = generated.split(\"Write the blog entry in a friendly, informative tone.\")[-1].strip()"
   ]
  },
  {
   "cell_type": "code",
   "execution_count": null,
   "id": "8c5cc0ee",
   "metadata": {},
   "outputs": [],
   "source": [
    "print(f\"\\n--- Blogpost for {category} ---\\n\")\n",
    "        print(blog_output)"
   ]
  },
  {
   "cell_type": "code",
   "execution_count": null,
   "id": "4d1e975d",
   "metadata": {},
   "outputs": [],
   "source": [
    "# Example usage\n",
    "# clustered_data = pd.read_csv('path_to_your_clustered_data.csv')\n",
    "# blog_content = generate_blog_post(clustered_data)\n",
    "# save_blog_post(blog_content, 'outputs/blog_posts/recommendations_blog_post.md')"
   ]
  }
 ],
 "metadata": {
  "language_info": {
   "name": "python"
  }
 },
 "nbformat": 4,
 "nbformat_minor": 5
}
