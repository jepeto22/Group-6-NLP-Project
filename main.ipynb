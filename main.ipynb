{
 "cells": [
  {
   "cell_type": "markdown",
   "metadata": {},
   "source": [
    "# Import Required Libraries\n",
    "Import pandas and any other necessary libraries."
   ]
  },
  {
   "cell_type": "code",
   "execution_count": 1,
   "metadata": {},
   "outputs": [],
   "source": [
    "import pandas as pd  # Import pandas for data manipulation and analysis\n",
    "import os  # Import os for file path operations"
   ]
  },
  {
   "cell_type": "markdown",
   "metadata": {},
   "source": [
    "# Load CSV Files into DataFrames\n",
    "Use pandas' read_csv() function to load the 3 CSV files into separate dataframes."
   ]
  },
  {
   "cell_type": "code",
   "execution_count": null,
   "metadata": {},
   "outputs": [
    {
     "ename": "FileNotFoundError",
     "evalue": "File not found: Data/Datafiniti_Amazon_Consumer_Reviews_of_Amazon_Products_May192.csv",
     "output_type": "error",
     "traceback": [
      "\u001b[0;31m---------------------------------------------------------------------------\u001b[0m",
      "\u001b[0;31mFileNotFoundError\u001b[0m                         Traceback (most recent call last)",
      "Cell \u001b[0;32mIn[7], line 12\u001b[0m\n\u001b[1;32m     10\u001b[0m \t\u001b[38;5;28;01mraise\u001b[39;00m \u001b[38;5;167;01mFileNotFoundError\u001b[39;00m(\u001b[38;5;124mf\u001b[39m\u001b[38;5;124m\"\u001b[39m\u001b[38;5;124mFile not found: \u001b[39m\u001b[38;5;132;01m{\u001b[39;00mfile1_path\u001b[38;5;132;01m}\u001b[39;00m\u001b[38;5;124m\"\u001b[39m)\n\u001b[1;32m     11\u001b[0m \u001b[38;5;28;01mif\u001b[39;00m \u001b[38;5;129;01mnot\u001b[39;00m os\u001b[38;5;241m.\u001b[39mpath\u001b[38;5;241m.\u001b[39mexists(file2_path):\n\u001b[0;32m---> 12\u001b[0m \t\u001b[38;5;28;01mraise\u001b[39;00m \u001b[38;5;167;01mFileNotFoundError\u001b[39;00m(\u001b[38;5;124mf\u001b[39m\u001b[38;5;124m\"\u001b[39m\u001b[38;5;124mFile not found: \u001b[39m\u001b[38;5;132;01m{\u001b[39;00mfile2_path\u001b[38;5;132;01m}\u001b[39;00m\u001b[38;5;124m\"\u001b[39m)\n\u001b[1;32m     13\u001b[0m \u001b[38;5;28;01mif\u001b[39;00m \u001b[38;5;129;01mnot\u001b[39;00m os\u001b[38;5;241m.\u001b[39mpath\u001b[38;5;241m.\u001b[39mexists(file3_path):\n\u001b[1;32m     14\u001b[0m \t\u001b[38;5;28;01mraise\u001b[39;00m \u001b[38;5;167;01mFileNotFoundError\u001b[39;00m(\u001b[38;5;124mf\u001b[39m\u001b[38;5;124m\"\u001b[39m\u001b[38;5;124mFile not found: \u001b[39m\u001b[38;5;132;01m{\u001b[39;00mfile3_path\u001b[38;5;132;01m}\u001b[39;00m\u001b[38;5;124m\"\u001b[39m)\n",
      "\u001b[0;31mFileNotFoundError\u001b[0m: File not found: Data/Datafiniti_Amazon_Consumer_Reviews_of_Amazon_Products_May192.csv"
     ]
    }
   ],
   "source": [
    "# Load CSV Files into DataFrames\n",
    "\n",
    "# Define file paths for the 3 CSV files\n",
    "file1_path = os.path.join(\"Data\", \"1429_1.csv\")\n",
    "file2_path = os.path.join(\"Data\", \"Datafiniti_Amazon_Consumer_Reviews_of_Amazon_Products_May192.csv\")\n",
    "file3_path = os.path.join(\"Data\", \"Datafiniti_Amazon_Consumer_Reviews_of_Amazon_Products.csv\")\n",
    "\n",
    "# Load the CSV files into separate pandas dataframes\n",
    "df1 = pd.read_csv(file1_path)\n",
    "df2 = pd.read_csv(file2_path)\n",
    "df3 = pd.read_csv(file3_path)\n",
    "\n",
    "# Display the first few rows of each dataframe to verify successful loading\n",
    "df1.head(), df2.head(), df3.head()"
   ]
  },
  {
   "cell_type": "markdown",
   "metadata": {},
   "source": [
    "# Display DataFrame Information\n",
    "Use methods like head(), info(), and describe() to display information about the loaded dataframes."
   ]
  },
  {
   "cell_type": "code",
   "execution_count": null,
   "metadata": {},
   "outputs": [],
   "source": [
    "# Display DataFrame Information\n",
    "\n",
    "# Display the first few rows of each dataframe\n",
    "print(\"First few rows of df1:\")\n",
    "print(df1.head())\n",
    "print(\"\\nFirst few rows of df2:\")\n",
    "print(df2.head())\n",
    "print(\"\\nFirst few rows of df3:\")\n",
    "print(df3.head())\n",
    "\n",
    "# Display information about each dataframe\n",
    "print(\"\\nInformation about df1:\")\n",
    "df1.info()\n",
    "print(\"\\nInformation about df2:\")\n",
    "df2.info()\n",
    "print(\"\\nInformation about df3:\")\n",
    "df3.info()\n",
    "\n",
    "# Display summary statistics for each dataframe\n",
    "print(\"\\nSummary statistics for df1:\")\n",
    "print(df1.describe())\n",
    "print(\"\\nSummary statistics for df2:\")\n",
    "print(df2.describe())\n",
    "print(\"\\nSummary statistics for df3:\")\n",
    "print(df3.describe())"
   ]
  },
  {
   "cell_type": "code",
   "execution_count": null,
   "metadata": {},
   "outputs": [],
   "source": [
    "df = pd.concat([df1, df2, df3], ignore_index=True).dropna()"
   ]
  }
 ],
 "metadata": {
  "kernelspec": {
   "display_name": "base",
   "language": "python",
   "name": "python3"
  },
  "language_info": {
   "codemirror_mode": {
    "name": "ipython",
    "version": 3
   },
   "file_extension": ".py",
   "mimetype": "text/x-python",
   "name": "python",
   "nbconvert_exporter": "python",
   "pygments_lexer": "ipython3",
   "version": "3.12.2"
  }
 },
 "nbformat": 4,
 "nbformat_minor": 2
}
